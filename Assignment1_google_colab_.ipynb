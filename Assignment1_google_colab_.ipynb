{
  "nbformat": 4,
  "nbformat_minor": 0,
  "metadata": {
    "colab": {
      "provenance": []
    },
    "kernelspec": {
      "name": "python3",
      "display_name": "Python 3"
    },
    "language_info": {
      "name": "python"
    }
  },
  "cells": [
    {
      "cell_type": "code",
      "execution_count": null,
      "metadata": {
        "id": "NTVu90PcMw0j"
      },
      "outputs": [],
      "source": [
        "1. What is Python, and why is it popular?\n",
        " - Python is an interpreted, object-oriented, high-level programming language with dynamic semantics. Its high-level built in data structures, combined with dynamic typing and dynamic binding, make it very attractive for Rapid Application Development, as well as for use as a scripting or glue language to connect existing components together.\n",
        "2. . What is an interpreter in Python?\n",
        " - An interpreter is a computer program that directly executes instructions written in a programming or scripting language, without requiring them previously to have been compiled into machine-language form.\n",
        "3. What are pre-defined keywords in Python?\n",
        " - Pre-defined keywords are reserved words in Python with special meanings, such as if, else, for, while, def, import, and return.\n",
        "4. Can keywords be used as variable names?\n",
        " - No, keywords cannot be used as variable names because they have predefined functions in Python.\n",
        "5. What is mutability in Python?\n",
        " - Mutability refers to whether an object can be changed after creation; mutable objects can be modified, while immutable objects cannot.\n",
        "6. Why are lists mutable, but tuples are immutable?\n",
        " - Lists are mutable because they allow modification, while tuples are immutable to ensure data integrity and prevent accidental changes.\n",
        "7. What is the difference between == and is operators in Python?\n",
        " - == is used for value comparison, while is is used for reference comparison.\n",
        "8.  What are logical operators in Python?\n",
        " - Logical operators (and, or, not) are used to combine or manipulate boolean expressions.\n",
        "9. What is type casting in Python?\n",
        " - Type casting converts one data type to another, such as int(\"5\") converting a string to an integer.\n",
        "10. What is the difference between implicit and explicit type casting?\n",
        " - Implicit casting is done automatically by Python (e.g., int + float → float), while explicit casting is manually done using functions like int(), float(), or str().\n",
        "11. What is the purpose of conditional statements in Python?\n",
        " - Conditional statements (if, elif, else) control the flow of execution based on conditions.\n",
        "12. How does the elif statement work?\n",
        " - The elif statement allows multiple conditional checks, executing the first one that evaluates to True.\n",
        "13. What is the difference between for and while loops?\n",
        " - For loops iterate over a sequence of items, while while loops execute a block of code as long as a condition is True.\n",
        "14. Describe a scenario where a while loop is more suitable than a for loop.\n",
        " - A while loop is better when the number of iterations is unknown beforehand, such as waiting for user input or reading a file until the end.\n",
        ""
      ]
    },
    {
      "cell_type": "code",
      "source": [
        "# 1. Write a Python program to print \"Hello, World!\n",
        "print(\"Hello, World!\")"
      ],
      "metadata": {
        "colab": {
          "base_uri": "https://localhost:8080/"
        },
        "id": "vRujofuxQr1a",
        "outputId": "8f1040cc-5dc6-4d39-a2fa-0eea2441316d"
      },
      "execution_count": 1,
      "outputs": [
        {
          "output_type": "stream",
          "name": "stdout",
          "text": [
            "Hello, World!\n"
          ]
        }
      ]
    },
    {
      "cell_type": "code",
      "source": [
        "# 2  Write a Python program that displays your name and age\n",
        "name = input(\"Enter your name: \")\n",
        "age = input(\"Enter your age: \")\n",
        "print(\"Name:\", name)\n",
        "print(\"Age:\", age)"
      ],
      "metadata": {
        "colab": {
          "base_uri": "https://localhost:8080/"
        },
        "id": "ki62Wj9LRDNY",
        "outputId": "9011fd98-9f88-4ae4-bc2a-501214324c55"
      },
      "execution_count": 3,
      "outputs": [
        {
          "output_type": "stream",
          "name": "stdout",
          "text": [
            "Enter your name: Anuj\n",
            "Enter your age: 23\n",
            "Name: Anuj\n",
            "Age: 23\n"
          ]
        }
      ]
    },
    {
      "cell_type": "code",
      "source": [
        "# 3 Write code to print all the pre-defined keywords in Python using the keyword library\n",
        "import keyword\n",
        "print(keyword.kwlist)"
      ],
      "metadata": {
        "colab": {
          "base_uri": "https://localhost:8080/"
        },
        "id": "XQVdgiBjRoU4",
        "outputId": "1cdb06bb-2236-4067-c624-abcfc507f93c"
      },
      "execution_count": 4,
      "outputs": [
        {
          "output_type": "stream",
          "name": "stdout",
          "text": [
            "['False', 'None', 'True', 'and', 'as', 'assert', 'async', 'await', 'break', 'class', 'continue', 'def', 'del', 'elif', 'else', 'except', 'finally', 'for', 'from', 'global', 'if', 'import', 'in', 'is', 'lambda', 'nonlocal', 'not', 'or', 'pass', 'raise', 'return', 'try', 'while', 'with', 'yield']\n"
          ]
        }
      ]
    },
    {
      "cell_type": "code",
      "source": [
        "# 4 Write a program that checks if a given word is a Python keyword.\n",
        "import keyword\n",
        "word = input(\"Enter a word: \")\n",
        "if keyword.iskeyword(word):\n",
        "    print(word, \"is a Python keyword.\")\n",
        "else:\n",
        "    print(word, \"is not a Python keyword.\")\n"
      ],
      "metadata": {
        "colab": {
          "base_uri": "https://localhost:8080/"
        },
        "id": "uZrff-WjRzAB",
        "outputId": "8982e507-1bc3-41b9-b618-93d33a1e5565"
      },
      "execution_count": 5,
      "outputs": [
        {
          "output_type": "stream",
          "name": "stdout",
          "text": [
            "Enter a word: list\n",
            "list is not a Python keyword.\n"
          ]
        }
      ]
    },
    {
      "cell_type": "code",
      "source": [
        "# 5 Create a list and tuple in Python, and demonstrate how attempting to change an element works differently for each\n",
        "list = [1, 2, 3, 4, 5]\n",
        "tuple = (1, 2, 3, 4, 5)\n",
        "list[0] = 10\n",
        "print(list)\n"
      ],
      "metadata": {
        "colab": {
          "base_uri": "https://localhost:8080/"
        },
        "id": "E8vQf7OuSFsn",
        "outputId": "8feb2299-e5eb-49ee-de96-45f32d2d2512"
      },
      "execution_count": 6,
      "outputs": [
        {
          "output_type": "stream",
          "name": "stdout",
          "text": [
            "[10, 2, 3, 4, 5]\n"
          ]
        }
      ]
    },
    {
      "cell_type": "code",
      "source": [
        "#6. Write a function to demonstrate the behavior of mutable and immutable arguments.\n",
        "def modify(x, lst):\n",
        "    x += 10\n",
        "    lst.append(100)\n",
        "\n",
        "num = 5\n",
        "my_list = [1, 2, 3]\n",
        "\n",
        "print(\"Before function call:\", num, my_list)\n",
        "modify(num, my_list)\n",
        "print(\"After function call:\", num, my_list)\n",
        "\n"
      ],
      "metadata": {
        "colab": {
          "base_uri": "https://localhost:8080/"
        },
        "id": "9Zcq3uvRSuDc",
        "outputId": "26fa30e6-53e9-4241-cab7-1f8d412e8dd4"
      },
      "execution_count": 7,
      "outputs": [
        {
          "output_type": "stream",
          "name": "stdout",
          "text": [
            "Before function call: 5 [1, 2, 3]\n",
            "After function call: 5 [1, 2, 3, 100]\n"
          ]
        }
      ]
    },
    {
      "cell_type": "code",
      "source": [
        "#7. Write a program that performs basic arithmetic operations on two user-input numbers.\n",
        "num1 = float(input(\"Enter the first number: \"))\n",
        "num2 = float(input(\"Enter the second number: \"))\n",
        "\n",
        "sum = num1 + num2\n",
        "difference = num1 - num2\n",
        "product = num1 * num2\n",
        "print(\"Sum:\", sum)\n",
        "print(\"Difference:\", difference)\n",
        "print(\"Product:\", product)"
      ],
      "metadata": {
        "colab": {
          "base_uri": "https://localhost:8080/"
        },
        "id": "6gXMYujBUfxk",
        "outputId": "c55d45fb-1e93-4eb2-ce18-345efb8ec43e"
      },
      "execution_count": 9,
      "outputs": [
        {
          "output_type": "stream",
          "name": "stdout",
          "text": [
            "Enter the first number: 43\n",
            "Enter the second number: 56\n",
            "Sum: 99.0\n",
            "Difference: -13.0\n",
            "Product: 2408.0\n"
          ]
        }
      ]
    },
    {
      "cell_type": "code",
      "source": [
        "#  8. Write a program to demonstrate the use of logical operators.\n",
        "num1 = float(input(\"Enter the first number: \"))\n",
        "num2 = float(input(\"Enter the second number: \"))\n",
        "\n",
        "if num1 > 0 and num2 > 0:\n",
        "    print(\"Both numbers are positive.\")"
      ],
      "metadata": {
        "colab": {
          "base_uri": "https://localhost:8080/"
        },
        "id": "OT1_A7LfVKfP",
        "outputId": "1fa721cd-67d6-4a6e-aec6-9420c1d55543"
      },
      "execution_count": 10,
      "outputs": [
        {
          "output_type": "stream",
          "name": "stdout",
          "text": [
            "Enter the first number: 9.4\n",
            "Enter the second number: 5.6\n",
            "Both numbers are positive.\n"
          ]
        }
      ]
    },
    {
      "cell_type": "code",
      "source": [
        "#9. Write a Python program to convert user input from string to integer, float, and boolean types.\n",
        "num_str = input(\"Enter a number as a string: \")\n",
        "num_int = int(num_str)\n",
        "num_float = float(num_str)\n",
        "num_bool = bool(num_str)\n",
        "print(\"Integer:\", num_int)\n",
        "print(\"Float:\", num_float)\n",
        "print(\"Boolean:\", num_bool)\n"
      ],
      "metadata": {
        "colab": {
          "base_uri": "https://localhost:8080/"
        },
        "id": "Jcyuuq-1V17c",
        "outputId": "29ed8121-b92e-4e1e-cc43-e58f3a5063cf"
      },
      "execution_count": 22,
      "outputs": [
        {
          "output_type": "stream",
          "name": "stdout",
          "text": [
            "Enter a number as a string: 5\n",
            "Integer: 5\n",
            "Float: 5.0\n",
            "Boolean: True\n"
          ]
        }
      ]
    },
    {
      "cell_type": "code",
      "source": [
        "# . Write code to demonstrate type casting with list elements.\n"
      ],
      "metadata": {
        "id": "2eNrx114XMQ_"
      },
      "execution_count": null,
      "outputs": []
    },
    {
      "cell_type": "code",
      "source": [
        "# . Write a program that checks if a number is positive, negative, or zero.\n",
        "num = float(input(\"Enter a number: \"))\n",
        "if num > 0:\n",
        "    print(\"The number is positive.\")\n",
        "elif num < 0:\n",
        "    print(\"The number is negative.\")\n",
        "else:\n",
        "    print(\"The number is zero.\")"
      ],
      "metadata": {
        "colab": {
          "base_uri": "https://localhost:8080/"
        },
        "id": "f9eDeUSFbGYg",
        "outputId": "82939522-77df-4338-9ea3-774ded25b425"
      },
      "execution_count": 23,
      "outputs": [
        {
          "output_type": "stream",
          "name": "stdout",
          "text": [
            "Enter a number: -9\n",
            "The number is negative.\n"
          ]
        }
      ]
    },
    {
      "cell_type": "code",
      "source": [
        "#  Write a for loop to print numbers from 1 to 10.\n",
        "for i in range(1, 11):\n",
        "    print(i)"
      ],
      "metadata": {
        "id": "fbgMvDTBbVDs"
      },
      "execution_count": null,
      "outputs": []
    },
    {
      "cell_type": "code",
      "source": [
        "# 13. Write a Python program to find the sum of all even numbers between 1 and 50.\n",
        "sum = 0\n",
        "for i in range(2, 51, 2):\n",
        "    sum += i\n",
        "print(\"The sum of even numbers between 1 and 50 is:\", sum)"
      ],
      "metadata": {
        "colab": {
          "base_uri": "https://localhost:8080/"
        },
        "id": "WIcpUvg6bYun",
        "outputId": "352512e7-618b-435f-85ca-225089c76902"
      },
      "execution_count": 24,
      "outputs": [
        {
          "output_type": "stream",
          "name": "stdout",
          "text": [
            "The sum of even numbers between 1 and 50 is: 650\n"
          ]
        }
      ]
    },
    {
      "cell_type": "code",
      "source": [
        "# 14. Write a program to reverse a string using a while loop.\n",
        "string = input(\"Enter a string: \")\n",
        "reversed_string = \"\"\n",
        "index = len(string) - 1\n",
        "while index >= 0:\n",
        "    reversed_string += string[index]\n",
        "    index -= 1\n",
        "print(\"The reversed string is:\", reversed_string)"
      ],
      "metadata": {
        "colab": {
          "base_uri": "https://localhost:8080/"
        },
        "id": "PZKsgF9oblBP",
        "outputId": "354f857d-eda9-4f1d-bc3a-28c05ddac7ba"
      },
      "execution_count": 25,
      "outputs": [
        {
          "output_type": "stream",
          "name": "stdout",
          "text": [
            "Enter a string: hji\n",
            "The reversed string is: ijh\n"
          ]
        }
      ]
    },
    {
      "cell_type": "code",
      "source": [
        "# 15. Write a Python program to calculate the factorial of a number provided by the user using a while loop.\n",
        "num = int(input(\"Enter a number: \"))\n",
        "factorial = 1\n",
        "while num > 0:\n",
        "    factorial *= num\n",
        "    num -= 1\n",
        "print(\"The factorial of the number is:\", factorial)"
      ],
      "metadata": {
        "colab": {
          "base_uri": "https://localhost:8080/"
        },
        "id": "f7Xg0zNbb0Uh",
        "outputId": "35ef79cc-6f8b-42af-fac9-1e0d7d04d501"
      },
      "execution_count": 26,
      "outputs": [
        {
          "output_type": "stream",
          "name": "stdout",
          "text": [
            "Enter a number: 5\n",
            "The factorial of the number is: 120\n"
          ]
        }
      ]
    },
    {
      "cell_type": "markdown",
      "source": [],
      "metadata": {
        "id": "k3hYsZXrNS44"
      }
    }
  ]
}